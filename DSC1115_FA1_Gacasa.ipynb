{
  "nbformat": 4,
  "nbformat_minor": 0,
  "metadata": {
    "colab": {
      "provenance": []
    },
    "kernelspec": {
      "name": "python3",
      "display_name": "Python 3"
    },
    "language_info": {
      "name": "python"
    }
  },
  "cells": [
    {
      "cell_type": "code",
      "execution_count": 9,
      "metadata": {
        "id": "f9HogXsgDD3o"
      },
      "outputs": [],
      "source": [
        "import pandas as pd\n",
        "import numpy as np\n",
        "from sklearn.preprocessing import StandardScaler\n",
        "import tensorflow as tf\n",
        "from tensorflow.keras import layers, models\n",
        "\n",
        "column_names = ['age', 'sex', 'cp', 'trestbps', 'chol', 'fbs', 'restecg',\n",
        "                'thalach', 'exang', 'oldpeak', 'slope', 'ca', 'thal', 'target']\n",
        "\n",
        "def load_dataset(file_path):\n",
        "    df = pd.read_csv(file_path, header=None, names=column_names, na_values='?')\n",
        "    return df\n",
        "\n",
        "cleveland = load_dataset(\"processed.cleveland.data\")\n",
        "hungary = load_dataset(\"processed.hungarian.data\")\n",
        "switzerland = load_dataset(\"processed.switzerland.data\")\n",
        "va = load_dataset(\"processed.va.data\")\n",
        "\n",
        "df = pd.concat([cleveland, hungary, switzerland, va], ignore_index=True)\n"
      ]
    },
    {
      "cell_type": "code",
      "source": [
        "df = df.dropna()\n",
        "\n",
        "df['target'] = df['target'].apply(lambda x: 1 if int(x) > 0 else 0)\n"
      ],
      "metadata": {
        "colab": {
          "base_uri": "https://localhost:8080/"
        },
        "id": "-E3n2mYKERhw",
        "outputId": "058b19ac-498e-4f52-acd1-66a78657d1e7"
      },
      "execution_count": 10,
      "outputs": [
        {
          "output_type": "stream",
          "name": "stderr",
          "text": [
            "<ipython-input-10-d976dd131c62>:3: SettingWithCopyWarning: \n",
            "A value is trying to be set on a copy of a slice from a DataFrame.\n",
            "Try using .loc[row_indexer,col_indexer] = value instead\n",
            "\n",
            "See the caveats in the documentation: https://pandas.pydata.org/pandas-docs/stable/user_guide/indexing.html#returning-a-view-versus-a-copy\n",
            "  df['target'] = df['target'].apply(lambda x: 1 if int(x) > 0 else 0)\n"
          ]
        }
      ]
    },
    {
      "cell_type": "code",
      "source": [
        "categorical_cols = ['cp', 'restecg', 'slope', 'thal', 'ca', 'sex', 'fbs', 'exang']\n",
        "df = pd.get_dummies(df, columns=categorical_cols)\n",
        "\n",
        "X = df.drop(\"target\", axis=1)\n",
        "y = df[\"target\"]\n",
        "\n",
        "scaler = StandardScaler()\n",
        "X_scaled = scaler.fit_transform(X)\n",
        "\n",
        "from sklearn.model_selection import train_test_split\n",
        "X_train, X_test, y_train, y_test = train_test_split(X_scaled, y, test_size=0.2, random_state=42)\n"
      ],
      "metadata": {
        "id": "ZXes4NQvEWyi"
      },
      "execution_count": 11,
      "outputs": []
    },
    {
      "cell_type": "code",
      "source": [
        "model = models.Sequential([\n",
        "    layers.Dense(64, activation='relu', input_shape=(X_train.shape[1],)),\n",
        "    layers.Dense(32, activation='relu'),\n",
        "    layers.Dense(1, activation='sigmoid')\n",
        "])\n",
        "\n",
        "model.compile(optimizer='adam',\n",
        "              loss='binary_crossentropy',\n",
        "              metrics=['accuracy', tf.keras.metrics.Precision(), tf.keras.metrics.Recall()])\n",
        "\n",
        "history = model.fit(X_train, y_train, epochs=50, batch_size=32, validation_split=0.2)\n"
      ],
      "metadata": {
        "colab": {
          "base_uri": "https://localhost:8080/"
        },
        "id": "TrrZVkQdEbpN",
        "outputId": "20efcaa7-c721-4890-dbfe-36335db8f1b3"
      },
      "execution_count": 12,
      "outputs": [
        {
          "output_type": "stream",
          "name": "stdout",
          "text": [
            "Epoch 1/50\n"
          ]
        },
        {
          "output_type": "stream",
          "name": "stderr",
          "text": [
            "/usr/local/lib/python3.11/dist-packages/keras/src/layers/core/dense.py:87: UserWarning: Do not pass an `input_shape`/`input_dim` argument to a layer. When using Sequential models, prefer using an `Input(shape)` object as the first layer in the model instead.\n",
            "  super().__init__(activity_regularizer=activity_regularizer, **kwargs)\n"
          ]
        },
        {
          "output_type": "stream",
          "name": "stdout",
          "text": [
            "\u001b[1m6/6\u001b[0m \u001b[32m━━━━━━━━━━━━━━━━━━━━\u001b[0m\u001b[37m\u001b[0m \u001b[1m3s\u001b[0m 103ms/step - accuracy: 0.4008 - loss: 0.8131 - precision_2: 0.4481 - recall_2: 0.5504 - val_accuracy: 0.4167 - val_loss: 0.8119 - val_precision_2: 0.3235 - val_recall_2: 0.6875\n",
            "Epoch 2/50\n",
            "\u001b[1m6/6\u001b[0m \u001b[32m━━━━━━━━━━━━━━━━━━━━\u001b[0m\u001b[37m\u001b[0m \u001b[1m0s\u001b[0m 17ms/step - accuracy: 0.5602 - loss: 0.6778 - precision_2: 0.5437 - recall_2: 0.8194 - val_accuracy: 0.5833 - val_loss: 0.7215 - val_precision_2: 0.4333 - val_recall_2: 0.8125\n",
            "Epoch 3/50\n",
            "\u001b[1m6/6\u001b[0m \u001b[32m━━━━━━━━━━━━━━━━━━━━\u001b[0m\u001b[37m\u001b[0m \u001b[1m0s\u001b[0m 17ms/step - accuracy: 0.6852 - loss: 0.5921 - precision_2: 0.6247 - recall_2: 0.8727 - val_accuracy: 0.5833 - val_loss: 0.6532 - val_precision_2: 0.4286 - val_recall_2: 0.7500\n",
            "Epoch 4/50\n",
            "\u001b[1m6/6\u001b[0m \u001b[32m━━━━━━━━━━━━━━━━━━━━\u001b[0m\u001b[37m\u001b[0m \u001b[1m0s\u001b[0m 18ms/step - accuracy: 0.7715 - loss: 0.5228 - precision_2: 0.7426 - recall_2: 0.8323 - val_accuracy: 0.5833 - val_loss: 0.6045 - val_precision_2: 0.4286 - val_recall_2: 0.7500\n",
            "Epoch 5/50\n",
            "\u001b[1m6/6\u001b[0m \u001b[32m━━━━━━━━━━━━━━━━━━━━\u001b[0m\u001b[37m\u001b[0m \u001b[1m0s\u001b[0m 18ms/step - accuracy: 0.8587 - loss: 0.4309 - precision_2: 0.8503 - recall_2: 0.8895 - val_accuracy: 0.6458 - val_loss: 0.5622 - val_precision_2: 0.4815 - val_recall_2: 0.8125\n",
            "Epoch 6/50\n",
            "\u001b[1m6/6\u001b[0m \u001b[32m━━━━━━━━━━━━━━━━━━━━\u001b[0m\u001b[37m\u001b[0m \u001b[1m0s\u001b[0m 17ms/step - accuracy: 0.8157 - loss: 0.4384 - precision_2: 0.7930 - recall_2: 0.8382 - val_accuracy: 0.6875 - val_loss: 0.5267 - val_precision_2: 0.5200 - val_recall_2: 0.8125\n",
            "Epoch 7/50\n",
            "\u001b[1m6/6\u001b[0m \u001b[32m━━━━━━━━━━━━━━━━━━━━\u001b[0m\u001b[37m\u001b[0m \u001b[1m0s\u001b[0m 26ms/step - accuracy: 0.8462 - loss: 0.4030 - precision_2: 0.8506 - recall_2: 0.8419 - val_accuracy: 0.7292 - val_loss: 0.4996 - val_precision_2: 0.5652 - val_recall_2: 0.8125\n",
            "Epoch 8/50\n",
            "\u001b[1m6/6\u001b[0m \u001b[32m━━━━━━━━━━━━━━━━━━━━\u001b[0m\u001b[37m\u001b[0m \u001b[1m0s\u001b[0m 18ms/step - accuracy: 0.8482 - loss: 0.3912 - precision_2: 0.8753 - recall_2: 0.8159 - val_accuracy: 0.7500 - val_loss: 0.4788 - val_precision_2: 0.5909 - val_recall_2: 0.8125\n",
            "Epoch 9/50\n",
            "\u001b[1m6/6\u001b[0m \u001b[32m━━━━━━━━━━━━━━━━━━━━\u001b[0m\u001b[37m\u001b[0m \u001b[1m0s\u001b[0m 17ms/step - accuracy: 0.8929 - loss: 0.3446 - precision_2: 0.9153 - recall_2: 0.8679 - val_accuracy: 0.7708 - val_loss: 0.4610 - val_precision_2: 0.6190 - val_recall_2: 0.8125\n",
            "Epoch 10/50\n",
            "\u001b[1m6/6\u001b[0m \u001b[32m━━━━━━━━━━━━━━━━━━━━\u001b[0m\u001b[37m\u001b[0m \u001b[1m0s\u001b[0m 18ms/step - accuracy: 0.8770 - loss: 0.3677 - precision_2: 0.9331 - recall_2: 0.8305 - val_accuracy: 0.8125 - val_loss: 0.4515 - val_precision_2: 0.6842 - val_recall_2: 0.8125\n",
            "Epoch 11/50\n",
            "\u001b[1m6/6\u001b[0m \u001b[32m━━━━━━━━━━━━━━━━━━━━\u001b[0m\u001b[37m\u001b[0m \u001b[1m0s\u001b[0m 17ms/step - accuracy: 0.8923 - loss: 0.3365 - precision_2: 0.9503 - recall_2: 0.8285 - val_accuracy: 0.8125 - val_loss: 0.4417 - val_precision_2: 0.6842 - val_recall_2: 0.8125\n",
            "Epoch 12/50\n",
            "\u001b[1m6/6\u001b[0m \u001b[32m━━━━━━━━━━━━━━━━━━━━\u001b[0m\u001b[37m\u001b[0m \u001b[1m0s\u001b[0m 18ms/step - accuracy: 0.9087 - loss: 0.2912 - precision_2: 0.9578 - recall_2: 0.8522 - val_accuracy: 0.8125 - val_loss: 0.4392 - val_precision_2: 0.6842 - val_recall_2: 0.8125\n",
            "Epoch 13/50\n",
            "\u001b[1m6/6\u001b[0m \u001b[32m━━━━━━━━━━━━━━━━━━━━\u001b[0m\u001b[37m\u001b[0m \u001b[1m0s\u001b[0m 18ms/step - accuracy: 0.8833 - loss: 0.3262 - precision_2: 0.9544 - recall_2: 0.8181 - val_accuracy: 0.7917 - val_loss: 0.4386 - val_precision_2: 0.6500 - val_recall_2: 0.8125\n",
            "Epoch 14/50\n",
            "\u001b[1m6/6\u001b[0m \u001b[32m━━━━━━━━━━━━━━━━━━━━\u001b[0m\u001b[37m\u001b[0m \u001b[1m0s\u001b[0m 18ms/step - accuracy: 0.9121 - loss: 0.2569 - precision_2: 0.9662 - recall_2: 0.8602 - val_accuracy: 0.8125 - val_loss: 0.4309 - val_precision_2: 0.6842 - val_recall_2: 0.8125\n",
            "Epoch 15/50\n",
            "\u001b[1m6/6\u001b[0m \u001b[32m━━━━━━━━━━━━━━━━━━━━\u001b[0m\u001b[37m\u001b[0m \u001b[1m0s\u001b[0m 19ms/step - accuracy: 0.9047 - loss: 0.2581 - precision_2: 0.9481 - recall_2: 0.8546 - val_accuracy: 0.8125 - val_loss: 0.4299 - val_precision_2: 0.6667 - val_recall_2: 0.8750\n",
            "Epoch 16/50\n",
            "\u001b[1m6/6\u001b[0m \u001b[32m━━━━━━━━━━━━━━━━━━━━\u001b[0m\u001b[37m\u001b[0m \u001b[1m0s\u001b[0m 18ms/step - accuracy: 0.8905 - loss: 0.3030 - precision_2: 0.9131 - recall_2: 0.8661 - val_accuracy: 0.8125 - val_loss: 0.4316 - val_precision_2: 0.6667 - val_recall_2: 0.8750\n",
            "Epoch 17/50\n",
            "\u001b[1m6/6\u001b[0m \u001b[32m━━━━━━━━━━━━━━━━━━━━\u001b[0m\u001b[37m\u001b[0m \u001b[1m0s\u001b[0m 18ms/step - accuracy: 0.9029 - loss: 0.2713 - precision_2: 0.9591 - recall_2: 0.8488 - val_accuracy: 0.8125 - val_loss: 0.4325 - val_precision_2: 0.6667 - val_recall_2: 0.8750\n",
            "Epoch 18/50\n",
            "\u001b[1m6/6\u001b[0m \u001b[32m━━━━━━━━━━━━━━━━━━━━\u001b[0m\u001b[37m\u001b[0m \u001b[1m0s\u001b[0m 17ms/step - accuracy: 0.8976 - loss: 0.2646 - precision_2: 0.9547 - recall_2: 0.8493 - val_accuracy: 0.8125 - val_loss: 0.4359 - val_precision_2: 0.6667 - val_recall_2: 0.8750\n",
            "Epoch 19/50\n",
            "\u001b[1m6/6\u001b[0m \u001b[32m━━━━━━━━━━━━━━━━━━━━\u001b[0m\u001b[37m\u001b[0m \u001b[1m0s\u001b[0m 17ms/step - accuracy: 0.9071 - loss: 0.2713 - precision_2: 0.9359 - recall_2: 0.8677 - val_accuracy: 0.8125 - val_loss: 0.4318 - val_precision_2: 0.6667 - val_recall_2: 0.8750\n",
            "Epoch 20/50\n",
            "\u001b[1m6/6\u001b[0m \u001b[32m━━━━━━━━━━━━━━━━━━━━\u001b[0m\u001b[37m\u001b[0m \u001b[1m0s\u001b[0m 18ms/step - accuracy: 0.9233 - loss: 0.2383 - precision_2: 0.9737 - recall_2: 0.8735 - val_accuracy: 0.8125 - val_loss: 0.4325 - val_precision_2: 0.6667 - val_recall_2: 0.8750\n",
            "Epoch 21/50\n",
            "\u001b[1m6/6\u001b[0m \u001b[32m━━━━━━━━━━━━━━━━━━━━\u001b[0m\u001b[37m\u001b[0m \u001b[1m0s\u001b[0m 18ms/step - accuracy: 0.9410 - loss: 0.2337 - precision_2: 0.9393 - recall_2: 0.9446 - val_accuracy: 0.8125 - val_loss: 0.4329 - val_precision_2: 0.6667 - val_recall_2: 0.8750\n",
            "Epoch 22/50\n",
            "\u001b[1m6/6\u001b[0m \u001b[32m━━━━━━━━━━━━━━━━━━━━\u001b[0m\u001b[37m\u001b[0m \u001b[1m0s\u001b[0m 24ms/step - accuracy: 0.9390 - loss: 0.2003 - precision_2: 0.9708 - recall_2: 0.9129 - val_accuracy: 0.8125 - val_loss: 0.4383 - val_precision_2: 0.6667 - val_recall_2: 0.8750\n",
            "Epoch 23/50\n",
            "\u001b[1m6/6\u001b[0m \u001b[32m━━━━━━━━━━━━━━━━━━━━\u001b[0m\u001b[37m\u001b[0m \u001b[1m0s\u001b[0m 18ms/step - accuracy: 0.9262 - loss: 0.2472 - precision_2: 0.9463 - recall_2: 0.9102 - val_accuracy: 0.8125 - val_loss: 0.4380 - val_precision_2: 0.6667 - val_recall_2: 0.8750\n",
            "Epoch 24/50\n",
            "\u001b[1m6/6\u001b[0m \u001b[32m━━━━━━━━━━━━━━━━━━━━\u001b[0m\u001b[37m\u001b[0m \u001b[1m0s\u001b[0m 17ms/step - accuracy: 0.9432 - loss: 0.1866 - precision_2: 0.9813 - recall_2: 0.9062 - val_accuracy: 0.8125 - val_loss: 0.4396 - val_precision_2: 0.6667 - val_recall_2: 0.8750\n",
            "Epoch 25/50\n",
            "\u001b[1m6/6\u001b[0m \u001b[32m━━━━━━━━━━━━━━━━━━━━\u001b[0m\u001b[37m\u001b[0m \u001b[1m0s\u001b[0m 17ms/step - accuracy: 0.9374 - loss: 0.1948 - precision_2: 0.9608 - recall_2: 0.9187 - val_accuracy: 0.8125 - val_loss: 0.4365 - val_precision_2: 0.6667 - val_recall_2: 0.8750\n",
            "Epoch 26/50\n",
            "\u001b[1m6/6\u001b[0m \u001b[32m━━━━━━━━━━━━━━━━━━━━\u001b[0m\u001b[37m\u001b[0m \u001b[1m0s\u001b[0m 18ms/step - accuracy: 0.9407 - loss: 0.1959 - precision_2: 0.9864 - recall_2: 0.8996 - val_accuracy: 0.8125 - val_loss: 0.4439 - val_precision_2: 0.6667 - val_recall_2: 0.8750\n",
            "Epoch 27/50\n",
            "\u001b[1m6/6\u001b[0m \u001b[32m━━━━━━━━━━━━━━━━━━━━\u001b[0m\u001b[37m\u001b[0m \u001b[1m0s\u001b[0m 20ms/step - accuracy: 0.9502 - loss: 0.1891 - precision_2: 0.9751 - recall_2: 0.9257 - val_accuracy: 0.8125 - val_loss: 0.4447 - val_precision_2: 0.6667 - val_recall_2: 0.8750\n",
            "Epoch 28/50\n",
            "\u001b[1m6/6\u001b[0m \u001b[32m━━━━━━━━━━━━━━━━━━━━\u001b[0m\u001b[37m\u001b[0m \u001b[1m0s\u001b[0m 18ms/step - accuracy: 0.9487 - loss: 0.1693 - precision_2: 0.9753 - recall_2: 0.9176 - val_accuracy: 0.8125 - val_loss: 0.4494 - val_precision_2: 0.6667 - val_recall_2: 0.8750\n",
            "Epoch 29/50\n",
            "\u001b[1m6/6\u001b[0m \u001b[32m━━━━━━━━━━━━━━━━━━━━\u001b[0m\u001b[37m\u001b[0m \u001b[1m0s\u001b[0m 17ms/step - accuracy: 0.9625 - loss: 0.1522 - precision_2: 0.9778 - recall_2: 0.9494 - val_accuracy: 0.8125 - val_loss: 0.4523 - val_precision_2: 0.6667 - val_recall_2: 0.8750\n",
            "Epoch 30/50\n",
            "\u001b[1m6/6\u001b[0m \u001b[32m━━━━━━━━━━━━━━━━━━━━\u001b[0m\u001b[37m\u001b[0m \u001b[1m0s\u001b[0m 27ms/step - accuracy: 0.9535 - loss: 0.1646 - precision_2: 0.9898 - recall_2: 0.9213 - val_accuracy: 0.8125 - val_loss: 0.4574 - val_precision_2: 0.6667 - val_recall_2: 0.8750\n",
            "Epoch 31/50\n",
            "\u001b[1m6/6\u001b[0m \u001b[32m━━━━━━━━━━━━━━━━━━━━\u001b[0m\u001b[37m\u001b[0m \u001b[1m0s\u001b[0m 19ms/step - accuracy: 0.9691 - loss: 0.1682 - precision_2: 0.9857 - recall_2: 0.9548 - val_accuracy: 0.8125 - val_loss: 0.4607 - val_precision_2: 0.6667 - val_recall_2: 0.8750\n",
            "Epoch 32/50\n",
            "\u001b[1m6/6\u001b[0m \u001b[32m━━━━━━━━━━━━━━━━━━━━\u001b[0m\u001b[37m\u001b[0m \u001b[1m0s\u001b[0m 25ms/step - accuracy: 0.9685 - loss: 0.1533 - precision_2: 0.9952 - recall_2: 0.9447 - val_accuracy: 0.8125 - val_loss: 0.4618 - val_precision_2: 0.6667 - val_recall_2: 0.8750\n",
            "Epoch 33/50\n",
            "\u001b[1m6/6\u001b[0m \u001b[32m━━━━━━━━━━━━━━━━━━━━\u001b[0m\u001b[37m\u001b[0m \u001b[1m0s\u001b[0m 18ms/step - accuracy: 0.9570 - loss: 0.1760 - precision_2: 0.9889 - recall_2: 0.9170 - val_accuracy: 0.8125 - val_loss: 0.4601 - val_precision_2: 0.6667 - val_recall_2: 0.8750\n",
            "Epoch 34/50\n",
            "\u001b[1m6/6\u001b[0m \u001b[32m━━━━━━━━━━━━━━━━━━━━\u001b[0m\u001b[37m\u001b[0m \u001b[1m0s\u001b[0m 18ms/step - accuracy: 0.9712 - loss: 0.1577 - precision_2: 0.9775 - recall_2: 0.9655 - val_accuracy: 0.8125 - val_loss: 0.4661 - val_precision_2: 0.6667 - val_recall_2: 0.8750\n",
            "Epoch 35/50\n",
            "\u001b[1m6/6\u001b[0m \u001b[32m━━━━━━━━━━━━━━━━━━━━\u001b[0m\u001b[37m\u001b[0m \u001b[1m0s\u001b[0m 18ms/step - accuracy: 0.9677 - loss: 0.1536 - precision_2: 0.9970 - recall_2: 0.9366 - val_accuracy: 0.8125 - val_loss: 0.4802 - val_precision_2: 0.6667 - val_recall_2: 0.8750\n",
            "Epoch 36/50\n",
            "\u001b[1m6/6\u001b[0m \u001b[32m━━━━━━━━━━━━━━━━━━━━\u001b[0m\u001b[37m\u001b[0m \u001b[1m0s\u001b[0m 18ms/step - accuracy: 0.9661 - loss: 0.1548 - precision_2: 0.9899 - recall_2: 0.9456 - val_accuracy: 0.8333 - val_loss: 0.4844 - val_precision_2: 0.7000 - val_recall_2: 0.8750\n",
            "Epoch 37/50\n",
            "\u001b[1m6/6\u001b[0m \u001b[32m━━━━━━━━━━━━━━━━━━━━\u001b[0m\u001b[37m\u001b[0m \u001b[1m0s\u001b[0m 21ms/step - accuracy: 0.9691 - loss: 0.1491 - precision_2: 0.9928 - recall_2: 0.9467 - val_accuracy: 0.8333 - val_loss: 0.4846 - val_precision_2: 0.7000 - val_recall_2: 0.8750\n",
            "Epoch 38/50\n",
            "\u001b[1m6/6\u001b[0m \u001b[32m━━━━━━━━━━━━━━━━━━━━\u001b[0m\u001b[37m\u001b[0m \u001b[1m0s\u001b[0m 18ms/step - accuracy: 0.9724 - loss: 0.1399 - precision_2: 0.9893 - recall_2: 0.9552 - val_accuracy: 0.8333 - val_loss: 0.4868 - val_precision_2: 0.7000 - val_recall_2: 0.8750\n",
            "Epoch 39/50\n",
            "\u001b[1m6/6\u001b[0m \u001b[32m━━━━━━━━━━━━━━━━━━━━\u001b[0m\u001b[37m\u001b[0m \u001b[1m0s\u001b[0m 18ms/step - accuracy: 0.9769 - loss: 0.1235 - precision_2: 0.9928 - recall_2: 0.9606 - val_accuracy: 0.8333 - val_loss: 0.4879 - val_precision_2: 0.7000 - val_recall_2: 0.8750\n",
            "Epoch 40/50\n",
            "\u001b[1m6/6\u001b[0m \u001b[32m━━━━━━━━━━━━━━━━━━━━\u001b[0m\u001b[37m\u001b[0m \u001b[1m0s\u001b[0m 17ms/step - accuracy: 0.9728 - loss: 0.1264 - precision_2: 0.9952 - recall_2: 0.9522 - val_accuracy: 0.8333 - val_loss: 0.4980 - val_precision_2: 0.7000 - val_recall_2: 0.8750\n",
            "Epoch 41/50\n",
            "\u001b[1m6/6\u001b[0m \u001b[32m━━━━━━━━━━━━━━━━━━━━\u001b[0m\u001b[37m\u001b[0m \u001b[1m0s\u001b[0m 17ms/step - accuracy: 0.9724 - loss: 0.1293 - precision_2: 0.9766 - recall_2: 0.9690 - val_accuracy: 0.8333 - val_loss: 0.5021 - val_precision_2: 0.7000 - val_recall_2: 0.8750\n",
            "Epoch 42/50\n",
            "\u001b[1m6/6\u001b[0m \u001b[32m━━━━━━━━━━━━━━━━━━━━\u001b[0m\u001b[37m\u001b[0m \u001b[1m0s\u001b[0m 19ms/step - accuracy: 0.9774 - loss: 0.1057 - precision_2: 0.9930 - recall_2: 0.9651 - val_accuracy: 0.8333 - val_loss: 0.5101 - val_precision_2: 0.7000 - val_recall_2: 0.8750\n",
            "Epoch 43/50\n",
            "\u001b[1m6/6\u001b[0m \u001b[32m━━━━━━━━━━━━━━━━━━━━\u001b[0m\u001b[37m\u001b[0m \u001b[1m0s\u001b[0m 18ms/step - accuracy: 0.9696 - loss: 0.1200 - precision_2: 0.9970 - recall_2: 0.9402 - val_accuracy: 0.8333 - val_loss: 0.5152 - val_precision_2: 0.7000 - val_recall_2: 0.8750\n",
            "Epoch 44/50\n",
            "\u001b[1m6/6\u001b[0m \u001b[32m━━━━━━━━━━━━━━━━━━━━\u001b[0m\u001b[37m\u001b[0m \u001b[1m0s\u001b[0m 19ms/step - accuracy: 0.9746 - loss: 0.1031 - precision_2: 0.9929 - recall_2: 0.9536 - val_accuracy: 0.8333 - val_loss: 0.5157 - val_precision_2: 0.7000 - val_recall_2: 0.8750\n",
            "Epoch 45/50\n",
            "\u001b[1m6/6\u001b[0m \u001b[32m━━━━━━━━━━━━━━━━━━━━\u001b[0m\u001b[37m\u001b[0m \u001b[1m0s\u001b[0m 21ms/step - accuracy: 0.9657 - loss: 0.1172 - precision_2: 0.9904 - recall_2: 0.9479 - val_accuracy: 0.8333 - val_loss: 0.5225 - val_precision_2: 0.7000 - val_recall_2: 0.8750\n",
            "Epoch 46/50\n",
            "\u001b[1m6/6\u001b[0m \u001b[32m━━━━━━━━━━━━━━━━━━━━\u001b[0m\u001b[37m\u001b[0m \u001b[1m0s\u001b[0m 18ms/step - accuracy: 0.9696 - loss: 0.1129 - precision_2: 0.9846 - recall_2: 0.9529 - val_accuracy: 0.8333 - val_loss: 0.5251 - val_precision_2: 0.7000 - val_recall_2: 0.8750\n",
            "Epoch 47/50\n",
            "\u001b[1m6/6\u001b[0m \u001b[32m━━━━━━━━━━━━━━━━━━━━\u001b[0m\u001b[37m\u001b[0m \u001b[1m0s\u001b[0m 18ms/step - accuracy: 0.9610 - loss: 0.1090 - precision_2: 0.9756 - recall_2: 0.9456 - val_accuracy: 0.8333 - val_loss: 0.5293 - val_precision_2: 0.7000 - val_recall_2: 0.8750\n",
            "Epoch 48/50\n",
            "\u001b[1m6/6\u001b[0m \u001b[32m━━━━━━━━━━━━━━━━━━━━\u001b[0m\u001b[37m\u001b[0m \u001b[1m0s\u001b[0m 18ms/step - accuracy: 0.9756 - loss: 0.0920 - precision_2: 0.9931 - recall_2: 0.9603 - val_accuracy: 0.8333 - val_loss: 0.5388 - val_precision_2: 0.7000 - val_recall_2: 0.8750\n",
            "Epoch 49/50\n",
            "\u001b[1m6/6\u001b[0m \u001b[32m━━━━━━━━━━━━━━━━━━━━\u001b[0m\u001b[37m\u001b[0m \u001b[1m0s\u001b[0m 19ms/step - accuracy: 0.9766 - loss: 0.0749 - precision_2: 0.9805 - recall_2: 0.9780 - val_accuracy: 0.8333 - val_loss: 0.5428 - val_precision_2: 0.7000 - val_recall_2: 0.8750\n",
            "Epoch 50/50\n",
            "\u001b[1m6/6\u001b[0m \u001b[32m━━━━━━━━━━━━━━━━━━━━\u001b[0m\u001b[37m\u001b[0m \u001b[1m0s\u001b[0m 19ms/step - accuracy: 0.9815 - loss: 0.0722 - precision_2: 0.9897 - recall_2: 0.9725 - val_accuracy: 0.8125 - val_loss: 0.5448 - val_precision_2: 0.6842 - val_recall_2: 0.8125\n"
          ]
        }
      ]
    },
    {
      "cell_type": "code",
      "source": [
        "loss, accuracy, precision, recall = model.evaluate(X_test, y_test)\n",
        "print(f\"Accuracy: {accuracy:.2f}\")\n",
        "print(f\"Precision: {precision:.2f}\")\n",
        "print(f\"Recall: {recall:.2f}\")\n"
      ],
      "metadata": {
        "colab": {
          "base_uri": "https://localhost:8080/"
        },
        "id": "vkuLBLWUErek",
        "outputId": "79bf1db6-2826-4722-e549-6e0f5e41e0a3"
      },
      "execution_count": 16,
      "outputs": [
        {
          "output_type": "stream",
          "name": "stdout",
          "text": [
            "\u001b[1m2/2\u001b[0m \u001b[32m━━━━━━━━━━━━━━━━━━━━\u001b[0m\u001b[37m\u001b[0m \u001b[1m0s\u001b[0m 28ms/step - accuracy: 0.8264 - loss: 0.3446 - precision_2: 0.7566 - recall_2: 0.8378\n",
            "Accuracy: 0.83\n",
            "Precision: 0.78\n",
            "Recall: 0.84\n"
          ]
        }
      ]
    },
    {
      "cell_type": "code",
      "source": [
        "print(df['target'].value_counts())\n"
      ],
      "metadata": {
        "colab": {
          "base_uri": "https://localhost:8080/"
        },
        "id": "YnwmQ5V0EyC2",
        "outputId": "27c39e7b-0795-4914-efb8-1d21c5e0394c"
      },
      "execution_count": 14,
      "outputs": [
        {
          "output_type": "stream",
          "name": "stdout",
          "text": [
            "target\n",
            "0    160\n",
            "1    139\n",
            "Name: count, dtype: int64\n"
          ]
        }
      ]
    },
    {
      "cell_type": "markdown",
      "source": [
        "\n",
        "\n",
        "*   This is a relatively balanced dataset.\n",
        "\n",
        "*   Class 0 (negative) makes up 53.5%, and class 1 (positive) makes up 46.5%.\n",
        "\n",
        "\n"
      ],
      "metadata": {
        "id": "GIbPf7j9IKyL"
      }
    },
    {
      "cell_type": "markdown",
      "source": [
        "Accuracy: 0.83 - \t83% of all predictions were correct — includes both positive and negative cases.\n",
        "\n",
        "Precision: 0.78 - \t78% of predicted positive cases were correct (i.e., fewer false positives).\n",
        "\n",
        "Recall: 0.84 - \t84% of actual positive cases were correctly detected (i.e., fewer false negatives).\n",
        "\n",
        "Loss: 0.3446 - suggests stable learning and a good fit for binary classification.\n",
        "\n",
        "\n",
        "\n",
        "*   model has improved in precision while maintaining strong recall.\n",
        "*   Recall (0.84) is still higher than precision, which is common (and often acceptable) in medical predictions — it means your model is less likely to miss people who do have heart disease.\n",
        "\n",
        "\n"
      ],
      "metadata": {
        "id": "jgtPLDAMHrFC"
      }
    },
    {
      "cell_type": "markdown",
      "source": [
        "**MLP**\n",
        "\n",
        "\n",
        "*   Application: Tabular/structured data (e.g., medical records, financial data).\n",
        "*   Architecture: Fully connected layers with activation functions like ReLU and sigmoid.\n",
        "\n",
        "\n",
        "*   Works well on structured datasets.\n",
        "*   Easy to implement and train.\n",
        "\n",
        "\n",
        "*   Cannot effectively capture spatial relationships (e.g., in image data).\n",
        "*   Requires careful feature scaling and encoding.\n",
        "\n",
        "\n",
        "\n",
        "**VS**\n",
        "\n",
        "\n",
        "\n",
        "\n",
        "\n",
        "\n",
        "**CNN**\n",
        "\n",
        "\n",
        "*   Application: Image and spatial data (e.g., object detection, handwriting recognition).\n",
        "*   Architecture: Uses convolutional and pooling layers to learn spatial hierarchies.\n",
        "\n",
        "\n",
        "*   Automatically extracts spatial features (edges, textures, shapes).\n",
        "*   Outperforms MLPs on image tasks.\n",
        "\n",
        "\n",
        "*   Requires more data and compute than MLPs.\n",
        "*   Not suitable for non-spatial/tabular data.\n",
        "\n",
        "\n",
        "---\n",
        "**Effects of transfer learning**:\n",
        "Using a CNN pretrained on a large dataset (e.g., ImageNet) and adapting it to a new task.\n",
        "\n",
        "**How it works**:\n",
        "\n",
        "*   Reuse early layers that capture general features.\n",
        "*   Fine-tune later layers on your custom dataset.\n",
        "\n",
        "Transfer learning significantly improves accuracy on small datasets, reduces training time and the risk of overfitting, and requires less labeled data.\n",
        "\n",
        "\n",
        "\n",
        "\n",
        "\n",
        "\n",
        "\n",
        "\n",
        "\n",
        "\n"
      ],
      "metadata": {
        "id": "vPovAI2sFTv3"
      }
    }
  ]
}